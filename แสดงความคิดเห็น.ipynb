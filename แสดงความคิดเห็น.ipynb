{
  "nbformat": 4,
  "nbformat_minor": 0,
  "metadata": {
    "colab": {
      "provenance": []
    },
    "kernelspec": {
      "name": "python3",
      "display_name": "Python 3"
    },
    "language_info": {
      "name": "python"
    }
  },
  "cells": [
    {
      "cell_type": "markdown",
      "source": [
        "#intention : ผลวิเคราะห์จุดประสงค์ของข้อความ\n",
        " sentiment : ร้อยละคะแนนความมั่นใจ (confidence)ว่าเป็นข้อความแสดงความคิดเห็น\n",
        "\n",
        " announcstrongent : ร้อยละคะแนนความมั่นใจ (confidence) ว่าเป็นข้อความประกาศหรือโฆษณา\n",
        "\n",
        " request : ร้อยละคะแนนความมั่นใจ (confidence) ว่าเป็นข้อความในเชิงร้องขอ\n",
        "\n",
        " question : ร้อยละคะแนนความมั่นใจ (confidence) ว่าเป็นข้อความในเชิงคําถาม"
      ],
      "metadata": {
        "id": "OGoYIZow-rmO"
      }
    },
    {
      "cell_type": "markdown",
      "source": [
        "#preprocess : ผลลัพธ์การจัดการข้อความก่อนวิเคราะห์\n",
        " input : ข้อความที่นําเข้าไปวิเคราะห์\n",
        "\n",
        " neg : คำที่แสดงเชิงลบ\n",
        "\n",
        " pos : คำที่แสดงเชิงบวก\n",
        "\n",
        " keyword : array ของคําสําคัญ\n",
        "\n",
        " segmented : array ของคําที่ได้จากการตัดคํา input"
      ],
      "metadata": {
        "id": "FhzA2ndw-5wx"
      }
    },
    {
      "cell_type": "code",
      "execution_count": null,
      "metadata": {
        "colab": {
          "base_uri": "https://localhost:8080/"
        },
        "id": "hx5uBX_B9bDm",
        "outputId": "9bc2025a-778b-484b-be89-a08a78336d97"
      },
      "outputs": [
        {
          "output_type": "stream",
          "name": "stdout",
          "text": [
            "{'sentiment': {'score': '88.89', 'polarity-neg': False, 'polarity-pos': True, 'polarity': 'positive'}, 'preprocess': {'input': 'สาขานี้พนักงานน่ารักให้บริการดี', 'neg': [], 'pos': ['น่ารัก', 'ให้บริการดี'], 'segmented': ['สาขา', 'นี้', 'พนักงาน', 'น่ารัก', 'ให้บริการดี'], 'keyword': ['สาขา', 'พนักงาน']}, 'alert': [], 'comparative': [], 'associative': [{'ent-pos': [], 'polarity-neg': False, 'endIndex': 20, 'polarity-pos': True, 'beginIndex': 7, 'text': 'พนักงานน่ารัก', 'ent-neg': [], 'asp': ['พนักงาน']}], 'intention': {'request': '0', 'sentiment': '88.89', 'question': '0', 'announcement': '0'}}\n"
          ]
        }
      ],
      "source": [
        "import requests\n",
        "\n",
        "url = \"https://api.aiforthai.in.th/ssense\"\n",
        "\n",
        "text = 'สาขานี้พนักงานน่ารักให้บริการดี'\n",
        "\n",
        "data = {'text':text}\n",
        "\n",
        "headers = {\n",
        "    'Apikey': \"PYJ6lQwGuvr8w7OJVThpu3T0yUlrC3af\"\n",
        "    }\n",
        "\n",
        "response = requests.post(url, data=data, headers=headers)\n",
        "\n",
        "print(response.json())"
      ]
    },
    {
      "cell_type": "markdown",
      "source": [
        "#อันนี้คือเลือกหาแค่ sentiment\n",
        "ถ้าเป็นการแสดงความคิดเห็นจะแสดงเปอร์เซ็นออกมา ถ้าไม่ใช่ความคิดเห็นจะได้ 0 เปอร์เซ็น"
      ],
      "metadata": {
        "id": "Ojl_5iRXDVij"
      }
    },
    {
      "cell_type": "code",
      "source": [
        "import requests\n",
        "\n",
        "url = \"https://api.aiforthai.in.th/ssense\"\n",
        "\n",
        "text = 'พนักงานร้านนี้มี20คน'\n",
        "\n",
        "data = {'text':text}\n",
        "\n",
        "headers = {\n",
        "    'Apikey': \"PYJ6lQwGuvr8w7OJVThpu3T0yUlrC3af\"\n",
        "    }\n",
        "\n",
        "response = requests.post(url, data=data, headers=headers)\n",
        "\n",
        "print(response.json()['sentiment'])"
      ],
      "metadata": {
        "colab": {
          "base_uri": "https://localhost:8080/"
        },
        "id": "4wulbDJH_sJj",
        "outputId": "2b20ab61-793f-47bc-e9f2-5cfdf00b370f"
      },
      "execution_count": null,
      "outputs": [
        {
          "output_type": "stream",
          "name": "stdout",
          "text": [
            "{'score': '0', 'polarity-neg': False, 'polarity-pos': False, 'polarity': ''}\n"
          ]
        }
      ]
    },
    {
      "cell_type": "markdown",
      "source": [
        "#ลองเพิ่มเงื่อนไขการให้คะแนน\n",
        "* แสดงความคิดเห็น"
      ],
      "metadata": {
        "id": "0b5TN9euGSLO"
      }
    },
    {
      "cell_type": "code",
      "source": [
        "import requests\n",
        "\n",
        "url = \"https://api.aiforthai.in.th/ssense\"\n",
        "\n",
        "text = 'แม้ร้านจะไม่ใหญ่มาก แต่การจัดวางสินค้ามีความเป็นระเบียบและสะดวกต่อการเลือกซื้อ ทำให้ประสบการณ์โดยรวมในการเข้าร้านครั้งนี้ดีมาก'\n",
        "\n",
        "data = {'text':text}\n",
        "\n",
        "headers = {\n",
        "    'Apikey': \"PYJ6lQwGuvr8w7OJVThpu3T0yUlrC3af\"\n",
        "    }\n",
        "\n",
        "response = requests.post(url, data=data, headers=headers)\n",
        "\n",
        "result = (response.json()['sentiment']['score'])\n",
        "result = float(result)\n",
        "print(result)\n",
        "\n",
        "if result > 50 :\n",
        "  score = 2\n",
        "else :\n",
        "  score = 0\n",
        "\n",
        "print(\"คะแนนที่ได้ \",score)"
      ],
      "metadata": {
        "colab": {
          "base_uri": "https://localhost:8080/"
        },
        "id": "ZIWdbjRWEHwe",
        "outputId": "edda5617-f0eb-466f-980b-4a4df5dcb368"
      },
      "execution_count": null,
      "outputs": [
        {
          "output_type": "stream",
          "name": "stdout",
          "text": [
            "90.91\n",
            "คะแนนที่ได้  2\n"
          ]
        }
      ]
    },
    {
      "cell_type": "markdown",
      "source": [
        "* ไม่แสดงความคิดเห็น"
      ],
      "metadata": {
        "id": "etrSfpumGyzc"
      }
    },
    {
      "cell_type": "code",
      "source": [
        "import requests\n",
        "\n",
        "url = \"https://api.aiforthai.in.th/ssense\"\n",
        "\n",
        "text = 'พนักงานทั้งหมดในร้านนี้มีจำนวน 15 คน แบ่งเป็นพนักงานบริการ 10 คน และพนักงานในครัว 5 คน'\n",
        "\n",
        "data = {'text':text}\n",
        "\n",
        "headers = {\n",
        "    'Apikey': \"PYJ6lQwGuvr8w7OJVThpu3T0yUlrC3af\"\n",
        "    }\n",
        "\n",
        "response = requests.post(url, data=data, headers=headers)\n",
        "\n",
        "result = (response.json()['sentiment']['score'])\n",
        "result = float(result)\n",
        "print(result)\n",
        "\n",
        "if result > 50 :\n",
        "  score = 2\n",
        "else :\n",
        "  score = 0\n",
        "\n",
        "print(\"คะแนนที่ได้ \",score)"
      ],
      "metadata": {
        "colab": {
          "base_uri": "https://localhost:8080/"
        },
        "id": "bEN8smbdGxgM",
        "outputId": "e36558ff-b538-43ee-96fb-d11740e4571b"
      },
      "execution_count": null,
      "outputs": [
        {
          "output_type": "stream",
          "name": "stdout",
          "text": [
            "0.0\n",
            "คะแนนที่ได้  0\n"
          ]
        }
      ]
    },
    {
      "cell_type": "markdown",
      "source": [
        "#เลือกหาแค่ผลวิเคราะห์จุดประสงค์ของข้อความ\n",
        "มันจะโชว์เปอร์เซ็นของประเภทข้อความออกมา ถ้าเจอว่าข้อความนั้นคือ sentiment แปลว่าเป็นการแสดงความคิดเห็น ถ้าเป็นอย่างอื่นคือ ไม่มีการแสดงความคิดเห็น"
      ],
      "metadata": {
        "id": "stzC3TkLCr6H"
      }
    },
    {
      "cell_type": "code",
      "source": [
        "import requests\n",
        "\n",
        "url = \"https://api.aiforthai.in.th/ssense\"\n",
        "\n",
        "text = 'ฉันไม่ชอบระบบสมัครสมาชิกของเว็บนี้'\n",
        "\n",
        "data = {'text':text}\n",
        "\n",
        "headers = {\n",
        "    'Apikey': \"PYJ6lQwGuvr8w7OJVThpu3T0yUlrC3af\"\n",
        "    }\n",
        "\n",
        "response = requests.post(url, data=data, headers=headers)\n",
        "\n",
        "print(response.json()['intention'])"
      ],
      "metadata": {
        "colab": {
          "base_uri": "https://localhost:8080/"
        },
        "id": "9MMiSMjgCKRr",
        "outputId": "6f6d0124-81b6-466b-cc40-659ab181c311"
      },
      "execution_count": null,
      "outputs": [
        {
          "output_type": "stream",
          "name": "stdout",
          "text": [
            "{'request': '0', 'sentiment': '83.33', 'question': '0', 'announcement': '0'}\n"
          ]
        }
      ]
    }
  ]
}